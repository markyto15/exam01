{
 "cells": [
  {
   "cell_type": "code",
   "execution_count": 28,
   "id": "df23c52a",
   "metadata": {},
   "outputs": [],
   "source": [
    "import os\n",
    "import cv2\n",
    "import numpy as np\n",
    "from sklearn.preprocessing import LabelEncoder\n",
    "from sklearn.model_selection import train_test_split\n",
    "from sklearn.metrics import confusion_matrix\n",
    "from tensorflow.keras.models import Sequential\n",
    "from tensorflow.keras.layers import Conv2D, MaxPooling2D, Flatten, Dense"
   ]
  },
  {
   "cell_type": "code",
   "execution_count": 29,
   "id": "7083f384",
   "metadata": {},
   "outputs": [],
   "source": [
    "# Definir las rutas de las carpetas de entrenamiento y prueba\n",
    "train_folder = 'CarneDataset/train'\n",
    "test_folder = 'CarneDataset/test'"
   ]
  },
  {
   "cell_type": "code",
   "execution_count": 30,
   "id": "b13a57c2",
   "metadata": {},
   "outputs": [],
   "source": [
    "# Leer las imágenes de entrenamiento y sus etiquetas\n",
    "train_images = []\n",
    "train_labels = []\n",
    "for label in os.listdir(train_folder):\n",
    "    label_folder = os.path.join(train_folder, label)\n",
    "    for filename in os.listdir(label_folder):\n",
    "        img_path = os.path.join(label_folder, filename)\n",
    "        img = cv2.imread(img_path)\n",
    "        if img is not None:\n",
    "            train_images.append(img)\n",
    "            train_labels.append(label)"
   ]
  },
  {
   "cell_type": "code",
   "execution_count": 31,
   "id": "6169e7af",
   "metadata": {},
   "outputs": [],
   "source": [
    "# Convertir las listas de imágenes y etiquetas a matrices NumPy\n",
    "train_images = np.array(train_images)\n",
    "train_labels = np.array(train_labels)"
   ]
  },
  {
   "cell_type": "code",
   "execution_count": 32,
   "id": "724dc2f6",
   "metadata": {},
   "outputs": [],
   "source": [
    "# Codificar las etiquetas como números\n",
    "label_encoder = LabelEncoder()\n",
    "train_labels_encoded = label_encoder.fit_transform(train_labels)"
   ]
  },
  {
   "cell_type": "code",
   "execution_count": 33,
   "id": "135d4f8e",
   "metadata": {},
   "outputs": [],
   "source": [
    "# Dividir el conjunto de entrenamiento en entrenamiento y validación\n",
    "train_images, val_images, train_labels_encoded, val_labels_encoded = train_test_split(train_images, train_labels_encoded, test_size=0.2, random_state=42)"
   ]
  },
  {
   "cell_type": "code",
   "execution_count": 34,
   "id": "2c2c3380",
   "metadata": {},
   "outputs": [],
   "source": [
    "# Normalizar los valores de píxeles entre 0 y 1\n",
    "train_images = train_images.astype('float32') / 255.0\n",
    "val_images = val_images.astype('float32') / 255.0"
   ]
  },
  {
   "cell_type": "code",
   "execution_count": 35,
   "id": "908fd5df",
   "metadata": {},
   "outputs": [],
   "source": [
    "# Definir la arquitectura de la CNN\n",
    "model = Sequential()\n",
    "model.add(Conv2D(32, (3, 3), activation='relu', input_shape=train_images.shape[1:]))\n",
    "model.add(MaxPooling2D((2, 2)))\n",
    "model.add(Conv2D(64, (3, 3), activation='relu'))\n",
    "model.add(MaxPooling2D((2, 2)))\n",
    "model.add(Conv2D(64, (3, 3), activation='relu'))\n",
    "model.add(Flatten())\n",
    "model.add(Dense(64, activation='relu'))\n",
    "model.add(Dense(len(label_encoder.classes_), activation='softmax'))"
   ]
  },
  {
   "cell_type": "code",
   "execution_count": 36,
   "id": "48b264c3",
   "metadata": {},
   "outputs": [],
   "source": [
    "# Compilar el modelo\n",
    "model.compile(optimizer='adam', loss='sparse_categorical_crossentropy', metrics=['accuracy'])"
   ]
  },
  {
   "cell_type": "code",
   "execution_count": 37,
   "id": "637900b6",
   "metadata": {},
   "outputs": [
    {
     "name": "stdout",
     "output_type": "stream",
     "text": [
      "Epoch 1/10\n",
      "41/41 [==============================] - 63s 2s/step - loss: 1.9417 - accuracy: 0.5884 - val_loss: 0.7680 - val_accuracy: 0.7003\n",
      "Epoch 2/10\n",
      "41/41 [==============================] - 61s 1s/step - loss: 0.6283 - accuracy: 0.7972 - val_loss: 0.4556 - val_accuracy: 0.8073\n",
      "Epoch 3/10\n",
      "41/41 [==============================] - 61s 1s/step - loss: 0.3890 - accuracy: 0.8692 - val_loss: 0.5631 - val_accuracy: 0.7645\n",
      "Epoch 4/10\n",
      "41/41 [==============================] - 61s 1s/step - loss: 0.1869 - accuracy: 0.9449 - val_loss: 0.3313 - val_accuracy: 0.8838\n",
      "Epoch 5/10\n",
      "41/41 [==============================] - 60s 1s/step - loss: 0.1098 - accuracy: 0.9740 - val_loss: 0.3518 - val_accuracy: 0.8838\n",
      "Epoch 6/10\n",
      "41/41 [==============================] - 61s 1s/step - loss: 0.1032 - accuracy: 0.9640 - val_loss: 0.3846 - val_accuracy: 0.8807\n",
      "Epoch 7/10\n",
      "41/41 [==============================] - 61s 1s/step - loss: 0.0718 - accuracy: 0.9770 - val_loss: 0.3513 - val_accuracy: 0.8991\n",
      "Epoch 8/10\n",
      "41/41 [==============================] - 61s 1s/step - loss: 0.0773 - accuracy: 0.9748 - val_loss: 0.9127 - val_accuracy: 0.7706\n",
      "Epoch 9/10\n",
      "41/41 [==============================] - 61s 1s/step - loss: 0.0723 - accuracy: 0.9770 - val_loss: 0.4010 - val_accuracy: 0.8777\n",
      "Epoch 10/10\n",
      "41/41 [==============================] - 61s 1s/step - loss: 0.0066 - accuracy: 0.9992 - val_loss: 0.3983 - val_accuracy: 0.8991\n"
     ]
    },
    {
     "data": {
      "text/plain": [
       "<keras.callbacks.History at 0x191fcca76d0>"
      ]
     },
     "execution_count": 37,
     "metadata": {},
     "output_type": "execute_result"
    }
   ],
   "source": [
    "# Entrenar el modelo\n",
    "model.fit(train_images, train_labels_encoded, epochs=10, batch_size=32, validation_data=(val_images, val_labels_encoded))"
   ]
  },
  {
   "cell_type": "code",
   "execution_count": 38,
   "id": "c987bb75",
   "metadata": {},
   "outputs": [],
   "source": [
    "test_images = []\n",
    "test_labels = []\n",
    "for label in os.listdir(test_folder):\n",
    "    label_folder = os.path.join(test_folder, label)\n",
    "    for filename in os.listdir(label_folder):\n",
    "        img_path = os.path.join(label_folder, filename)\n",
    "        img = cv2.imread(img_path)\n",
    "        if img is not None:\n",
    "            test_images.append(img)\n",
    "            test_labels.append(label)"
   ]
  },
  {
   "cell_type": "code",
   "execution_count": 39,
   "id": "9021cc5a",
   "metadata": {},
   "outputs": [],
   "source": [
    "test_images = np.array(test_images)\n",
    "test_labels = np.array(test_labels)"
   ]
  },
  {
   "cell_type": "code",
   "execution_count": 40,
   "id": "179d4dda",
   "metadata": {},
   "outputs": [],
   "source": [
    "test_images = test_images.astype('float32') / 255.0"
   ]
  },
  {
   "cell_type": "code",
   "execution_count": 41,
   "id": "1ac5fe08",
   "metadata": {},
   "outputs": [],
   "source": [
    "test_labels_encoded = label_encoder.transform(test_labels)"
   ]
  },
  {
   "cell_type": "code",
   "execution_count": 42,
   "id": "28e5277e",
   "metadata": {},
   "outputs": [
    {
     "name": "stdout",
     "output_type": "stream",
     "text": [
      "26/26 [==============================] - 9s 331ms/step\n"
     ]
    }
   ],
   "source": [
    "predictions = model.predict(test_images)\n",
    "predicted_labels = np.argmax(predictions, axis=1)"
   ]
  },
  {
   "cell_type": "code",
   "execution_count": 43,
   "id": "d4647729",
   "metadata": {},
   "outputs": [
    {
     "name": "stdout",
     "output_type": "stream",
     "text": [
      "Matriz de confusión del modelo:\n",
      "[[  1   0   0   0   0   0   0   0]\n",
      " [  0  27   0  17   0   0   4   0]\n",
      " [  0   0  82   2   5   1   7   0]\n",
      " [  0   3   1  40   0   0   1   0]\n",
      " [  0   0   6   1 442   0   3   7]\n",
      " [  0   0   0   2   2  15   0   0]\n",
      " [  0   2  16   4   9   0  83   0]\n",
      " [  0   0   0   0   7   0   0  20]]\n"
     ]
    }
   ],
   "source": [
    "# Calcular la matriz de confusión del modelo\n",
    "confusion = confusion_matrix(test_labels_encoded, predicted_labels)\n",
    "print('Matriz de confusión del modelo:')\n",
    "print(confusion)"
   ]
  },
  {
   "cell_type": "code",
   "execution_count": 44,
   "id": "816994ae",
   "metadata": {},
   "outputs": [
    {
     "name": "stdout",
     "output_type": "stream",
     "text": [
      "41/41 [==============================] - 13s 320ms/step\n",
      "Matriz de confusión del error en entrenamiento:\n",
      "[[  1   0   0   0   0   0   0   0]\n",
      " [  0  51   0   0   0   0   0   0]\n",
      " [  0   0 165   0   0   0   0   0]\n",
      " [  0   0   0  82   0   0   0   0]\n",
      " [  0   0   0   0 761   0   0   0]\n",
      " [  0   0   0   0   0  30   0   0]\n",
      " [  0   0   0   0   0   0 170   0]\n",
      " [  0   0   0   0   0   0   0  47]]\n"
     ]
    }
   ],
   "source": [
    "# Calcular la matriz de confusión del error en entrenamiento\n",
    "train_predictions = model.predict(train_images)\n",
    "train_predicted_labels = np.argmax(train_predictions, axis=1)\n",
    "train_confusion = confusion_matrix(train_labels_encoded, train_predicted_labels)\n",
    "print('Matriz de confusión del error en entrenamiento:')\n",
    "print(train_confusion)"
   ]
  },
  {
   "cell_type": "code",
   "execution_count": 45,
   "id": "e3164766",
   "metadata": {},
   "outputs": [
    {
     "name": "stdout",
     "output_type": "stream",
     "text": [
      "26/26 [==============================] - 8s 313ms/step\n",
      "Matriz de confusión del error en prueba:\n",
      "[[  1   0   0   0   0   0   0   0]\n",
      " [  0  27   0  17   0   0   4   0]\n",
      " [  0   0  82   2   5   1   7   0]\n",
      " [  0   3   1  40   0   0   1   0]\n",
      " [  0   0   6   1 442   0   3   7]\n",
      " [  0   0   0   2   2  15   0   0]\n",
      " [  0   2  16   4   9   0  83   0]\n",
      " [  0   0   0   0   7   0   0  20]]\n"
     ]
    }
   ],
   "source": [
    "# Calcular la matriz de confusión del error en prueba\n",
    "test_predictions = model.predict(test_images)\n",
    "test_predicted_labels = np.argmax(test_predictions, axis=1)\n",
    "test_confusion = confusion_matrix(test_labels_encoded, test_predicted_labels)\n",
    "print('Matriz de confusión del error en prueba:')\n",
    "print(test_confusion)"
   ]
  },
  {
   "cell_type": "code",
   "execution_count": null,
   "id": "02b17e19",
   "metadata": {},
   "outputs": [],
   "source": []
  }
 ],
 "metadata": {
  "kernelspec": {
   "display_name": "Python 3 (ipykernel)",
   "language": "python",
   "name": "python3"
  },
  "language_info": {
   "codemirror_mode": {
    "name": "ipython",
    "version": 3
   },
   "file_extension": ".py",
   "mimetype": "text/x-python",
   "name": "python",
   "nbconvert_exporter": "python",
   "pygments_lexer": "ipython3",
   "version": "3.10.10"
  }
 },
 "nbformat": 4,
 "nbformat_minor": 5
}
